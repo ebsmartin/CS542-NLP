{
 "cells": [
  {
   "cell_type": "markdown",
   "id": "bc5f3a80",
   "metadata": {},
   "source": [
    "# PA3 - Distributional Semantics Takes the SAT\n",
    "    Eric Martin\n",
    "    CS 542\n",
    "\n",
    "## 1) Create distributional semantic word vectors\n"
   ]
  },
  {
   "cell_type": "code",
   "execution_count": 304,
   "id": "9b7da5bf",
   "metadata": {},
   "outputs": [],
   "source": [
    "import numpy as np\n",
    "\n",
    "# my other imports are in the notebook"
   ]
  },
  {
   "cell_type": "code",
   "execution_count": 305,
   "id": "aaaf42b0",
   "metadata": {},
   "outputs": [
    {
     "data": {
      "text/plain": [
       "['the men feed the dogs',\n",
       " 'the women feed the dogs',\n",
       " 'the women feed the men',\n",
       " 'the men feed the men',\n",
       " 'the dogs bite the men',\n",
       " 'the dogs bite the women',\n",
       " 'the dogs bite the dogs',\n",
       " 'the dogs like the men',\n",
       " 'the men like the women',\n",
       " 'the women like the dogs',\n",
       " 'the men like the dogs']"
      ]
     },
     "execution_count": 305,
     "metadata": {},
     "output_type": "execute_result"
    }
   ],
   "source": [
    "# Assume this small dataset:\n",
    "\n",
    "with open(\"./dist_sim_data.txt\", \"r\") as f:\n",
    "    dist_sim_data = f.readlines()\n",
    "dist_sim_data = [x.strip() for x in dist_sim_data]  # remove the \\n\n",
    "dist_sim_data"
   ]
  },
  {
   "cell_type": "code",
   "execution_count": 306,
   "id": "4a11b84a",
   "metadata": {},
   "outputs": [
    {
     "data": {
      "text/plain": [
       "({'feed': 0, 'bite': 1, 'like': 2, 'dogs': 3, 'men': 4, 'women': 5, 'the': 6},\n",
       " {0: 'feed', 1: 'bite', 2: 'like', 3: 'dogs', 4: 'men', 5: 'women', 6: 'the'})"
      ]
     },
     "execution_count": 306,
     "metadata": {},
     "output_type": "execute_result"
    }
   ],
   "source": [
    "# count individual words\n",
    "\n",
    "voc = list(set([item for sublist in [s.split() for s in dist_sim_data] for item in sublist]))\n",
    "voc_dict = {voc[i]:i for i in range(len(voc))}\n",
    "inv_voc_dict = {i:voc[i] for i in range(len(voc))}\n",
    "voc_dict, inv_voc_dict"
   ]
  },
  {
   "cell_type": "code",
   "execution_count": 307,
   "id": "24b8fbbd",
   "metadata": {},
   "outputs": [
    {
     "data": {
      "text/plain": [
       "(7, 7)"
      ]
     },
     "execution_count": 307,
     "metadata": {},
     "output_type": "execute_result"
    }
   ],
   "source": [
    "# compute cooccurrence matrix\n",
    "\n",
    "cm = np.zeros((len(voc),len(voc)))\n",
    "cm.shape"
   ]
  },
  {
   "cell_type": "code",
   "execution_count": 308,
   "id": "cfa8b46f",
   "metadata": {},
   "outputs": [
    {
     "data": {
      "text/plain": [
       "array([[0., 0., 0., 0., 2., 2., 0.],\n",
       "       [0., 0., 0., 3., 0., 0., 0.],\n",
       "       [0., 0., 0., 1., 2., 1., 0.],\n",
       "       [0., 3., 1., 0., 0., 0., 4.],\n",
       "       [2., 0., 2., 0., 0., 0., 4.],\n",
       "       [2., 0., 1., 0., 0., 0., 3.],\n",
       "       [0., 0., 0., 4., 4., 3., 0.]])"
      ]
     },
     "execution_count": 308,
     "metadata": {},
     "output_type": "execute_result"
    }
   ],
   "source": [
    "for w in voc:\n",
    "    for c in voc:\n",
    "        if w != c:\n",
    "            for sent in dist_sim_data:\n",
    "                if w in sent.split() and c in sent.split()\\\n",
    "                    and abs(sent.split().index(w)-sent.split().index(c)) == 1:\n",
    "                    cm[voc_dict[w],voc_dict[c]] += 1\n",
    "cm"
   ]
  },
  {
   "cell_type": "markdown",
   "id": "a8a50af5",
   "metadata": {},
   "source": [
    "Each row is now a vector representing its coocurrence with other vocabulary items."
   ]
  },
  {
   "cell_type": "code",
   "execution_count": 309,
   "id": "b52f7bb9",
   "metadata": {},
   "outputs": [
    {
     "data": {
      "text/plain": [
       "array([[ 1.,  1.,  1.,  1., 21., 21.,  1.],\n",
       "       [ 1.,  1.,  1., 31.,  1.,  1.,  1.],\n",
       "       [ 1.,  1.,  1., 11., 21., 11.,  1.],\n",
       "       [ 1., 31., 11.,  1.,  1.,  1., 41.],\n",
       "       [21.,  1., 21.,  1.,  1.,  1., 41.],\n",
       "       [21.,  1., 11.,  1.,  1.,  1., 31.],\n",
       "       [ 1.,  1.,  1., 41., 41., 31.,  1.]])"
      ]
     },
     "execution_count": 309,
     "metadata": {},
     "output_type": "execute_result"
    }
   ],
   "source": [
    "# inflate counts and smooth (you wouldn't need to inflate with appropriately-sized data)\n",
    "cm *= 10  # inflate\n",
    "cm += 1  # smooth\n",
    "cm"
   ]
  },
  {
   "cell_type": "code",
   "execution_count": 310,
   "id": "7de9c77c",
   "metadata": {},
   "outputs": [
    {
     "data": {
      "text/plain": [
       "array([ 1.,  1.,  1.,  1., 21., 21.,  1.])"
      ]
     },
     "execution_count": 310,
     "metadata": {},
     "output_type": "execute_result"
    }
   ],
   "source": [
    "# get a vector\n",
    "\n",
    "cm[voc_dict[\"feed\"]]"
   ]
  },
  {
   "cell_type": "code",
   "execution_count": 311,
   "id": "98a1cf54",
   "metadata": {},
   "outputs": [],
   "source": [
    "# normalize by the magnitude of the vectors\n",
    "def cos_sim(a,b):\n",
    "    return np.inner(a, b) / (np.linalg.norm(a) * np.linalg.norm(b))"
   ]
  },
  {
   "cell_type": "code",
   "execution_count": 312,
   "id": "b5f28f97",
   "metadata": {},
   "outputs": [
    {
     "data": {
      "text/plain": [
       "0.8800686659691641"
      ]
     },
     "execution_count": 312,
     "metadata": {},
     "output_type": "execute_result"
    }
   ],
   "source": [
    "cos_sim(cm[voc_dict[\"feed\"]],cm[voc_dict[\"like\"]])"
   ]
  },
  {
   "cell_type": "code",
   "execution_count": 313,
   "id": "b02126d1",
   "metadata": {},
   "outputs": [
    {
     "data": {
      "text/plain": [
       "0.08416450561450177"
      ]
     },
     "execution_count": 313,
     "metadata": {},
     "output_type": "execute_result"
    }
   ],
   "source": [
    "cos_sim(cm[voc_dict[\"feed\"]],cm[voc_dict[\"men\"]])"
   ]
  },
  {
   "cell_type": "code",
   "execution_count": 314,
   "id": "3063a923",
   "metadata": {},
   "outputs": [
    {
     "data": {
      "text/plain": [
       "0.9834074604268053"
      ]
     },
     "execution_count": 314,
     "metadata": {},
     "output_type": "execute_result"
    }
   ],
   "source": [
    "cos_sim(cm[voc_dict[\"women\"]],cm[voc_dict[\"men\"]])"
   ]
  },
  {
   "cell_type": "markdown",
   "id": "13eda14f",
   "metadata": {},
   "source": [
    "The verbs and the nouns are more similar to each other than they are to the other class!"
   ]
  },
  {
   "cell_type": "markdown",
   "id": "aa5ad1ab",
   "metadata": {},
   "source": [
    "With a non-toy vocabulary it's a little more involved than *just* creating a cooccurrence matrix, but that's the first step.  One technique is to use positive pointwise mutual information (PPMI):\n",
    "\n",
    "$$PPMI(w,c) = max\\left(log\\left(\\frac{P(w,c)}{P(w)P(c)}\\right),0\\right)$$"
   ]
  },
  {
   "cell_type": "markdown",
   "id": "016cf4dc",
   "metadata": {},
   "source": [
    "Once weighted by PPMI, your word vectors can be decomposed using SVD, and be projected into lower dimensionalities in abstract semantic space."
   ]
  },
  {
   "cell_type": "markdown",
   "id": "7aed2872",
   "metadata": {},
   "source": [
    "So deep learning is not the only way to train word vectors, but is perhaps the most eye-catching!"
   ]
  },
  {
   "cell_type": "markdown",
   "id": "1c3ec39c",
   "metadata": {},
   "source": [
    "    P(w) is the probability of a word, computed as the sum of its occurrences in the co-occurrence matrix divided by the total number of co-occurrences in the matrix.\n",
    "\n",
    "    P(c) is similar, but for the context word.\n",
    "\n",
    "    P(w,c) is the probability of their co-occurrence, computed as the frequency of the co-occurrence divided by the total number of co-occurrences."
   ]
  },
  {
   "cell_type": "code",
   "execution_count": 315,
   "id": "7dd35899",
   "metadata": {},
   "outputs": [
    {
     "data": {
      "text/plain": [
       "489.0"
      ]
     },
     "execution_count": 315,
     "metadata": {},
     "output_type": "execute_result"
    }
   ],
   "source": [
    "# Calculate the total number of co-occurrences\n",
    "total_cooccurrences = np.sum(cm)\n",
    "total_cooccurrences\n",
    "\n",
    "# Note this value is inflated"
   ]
  },
  {
   "cell_type": "code",
   "execution_count": 316,
   "id": "6b2ffd32",
   "metadata": {},
   "outputs": [
    {
     "data": {
      "text/plain": [
       "array([[0.        , 0.        , 0.        , 0.        , 0.44012109,\n",
       "        1.1938297 , 0.        ],\n",
       "       [0.        , 0.        , 0.        , 1.00199997, 0.        ,\n",
       "        0.        , 0.        ],\n",
       "       [0.        , 0.        , 0.        , 0.        , 0.44012109,\n",
       "        0.26094389, 0.        ],\n",
       "       [0.        , 3.46898023, 1.28394457, 0.        , 0.        ,\n",
       "        0.        , 0.55051322],\n",
       "       [2.21683037, 0.        , 2.21683037, 0.        , 0.        ,\n",
       "        0.        , 0.55051322],\n",
       "       [2.21683037, 0.        , 1.28394457, 0.        , 0.        ,\n",
       "        0.        , 0.14715753],\n",
       "       [0.        , 0.        , 0.        , 1.40535567, 1.40535567,\n",
       "        1.75570858, 0.        ]])"
      ]
     },
     "execution_count": 316,
     "metadata": {},
     "output_type": "execute_result"
    }
   ],
   "source": [
    "# Calculate probabilities P(w), P(c), and P(w, c)\n",
    "P_w = np.sum(cm, axis=1) / total_cooccurrences\n",
    "P_c = np.sum(cm, axis=0) / total_cooccurrences\n",
    "P_wc = cm / total_cooccurrences\n",
    "\n",
    "# Compute PPMI\n",
    "# PPMI = np.maximum(np.log2(P_wc / (P_w[:, None] * P_c)), 0)  # p_w[:, None] is a trick to turn a 1D array into a 2D array\n",
    "PPMI = np.maximum(np.log2(P_wc / (P_w * P_c)), 0)\n",
    "# PPMI now contains the PPMI values for each word pair\n",
    "PPMI"
   ]
  },
  {
   "cell_type": "markdown",
   "id": "d32586c1",
   "metadata": {},
   "source": [
    "## Visualize the actual words in the co-occurance matrix"
   ]
  },
  {
   "cell_type": "code",
   "execution_count": 317,
   "id": "46897931",
   "metadata": {},
   "outputs": [
    {
     "data": {
      "image/png": "[encoded data removed]",
      "text/plain": [
       "<Figure size 720x576 with 2 Axes>"
      ]
     },
     "metadata": {
      "needs_background": "light"
     },
     "output_type": "display_data"
    },
    {
     "data": {
      "image/png": "[encoded data removed]",
      "text/plain": [
       "<Figure size 720x576 with 2 Axes>"
      ]
     },
     "metadata": {
      "needs_background": "light"
     },
     "output_type": "display_data"
    }
   ],
   "source": [
    "import matplotlib.pyplot as plt\n",
    "import seaborn as sns\n",
    "\n",
    "# Assuming 'cm' is your co-occurrence matrix and 'voc' is your vocabulary list\n",
    "\n",
    "# Convert the co-occurrence matrix to a DataFrame for better labeling in Seaborn\n",
    "import pandas as pd\n",
    "cm_df = pd.DataFrame(cm, index=voc, columns=voc)\n",
    "\n",
    "# Plotting\n",
    "plt.figure(figsize=(10, 8))\n",
    "sns.heatmap(cm_df, annot=True, fmt=\"g\", cmap=\"viridis\")\n",
    "\n",
    "plt.title(\"Word Co-Occurrence Matrix\")\n",
    "plt.xlabel(\"Context Words\")\n",
    "plt.ylabel(\"Target Words\")\n",
    "plt.show()\n",
    "\n",
    "\n",
    "PPMI_df = pd.DataFrame(PPMI, index=voc, columns=voc)\n",
    "\n",
    "# Plotting\n",
    "plt.figure(figsize=(10, 8))\n",
    "sns.heatmap(PPMI_df, annot=True, fmt=\"g\", cmap=\"viridis\")\n",
    "\n",
    "plt.title(\"Word PPMI Matrix\")\n",
    "plt.xlabel(\"Context Words\")\n",
    "plt.ylabel(\"Target Words\")\n",
    "plt.show()"
   ]
  },
  {
   "cell_type": "markdown",
   "id": "5dbd08a6",
   "metadata": {},
   "source": [
    "## Comparing \"dogs \" before and after PPMI reweighting\n",
    "\n",
    "What happened to the elements of this vector that had a smoothed count of 1 in the smoothed count matrix? What happened to the elements of this vector that had the same value (not 1) in the smoothed count matrix? You can look at the indices of these numbers in the word vector and determine what context word c they correspond to.\n",
    "\n",
    "\n",
    "Does it seem like PPMI reweighting did the right thing with regard to the representation of each context word c in the word vector for “dogs”? Why? Explain in a few sentences how PPMI helps (short prose will do here; no need to show any math,rather just an intuitive understanding).\n"
   ]
  },
  {
   "cell_type": "code",
   "execution_count": 318,
   "id": "799cb99d",
   "metadata": {},
   "outputs": [
    {
     "data": {
      "text/plain": [
       "array([ 1., 31., 11.,  1.,  1.,  1., 41.])"
      ]
     },
     "execution_count": 318,
     "metadata": {},
     "output_type": "execute_result"
    }
   ],
   "source": [
    "# Original co-occurrence matrix vector\n",
    "cm[voc_dict[\"dogs\"]]"
   ]
  },
  {
   "cell_type": "code",
   "execution_count": 319,
   "id": "d653dd82",
   "metadata": {},
   "outputs": [
    {
     "data": {
      "text/plain": [
       "array([0.        , 3.46898023, 1.28394457, 0.        , 0.        ,\n",
       "       0.        , 0.55051322])"
      ]
     },
     "execution_count": 319,
     "metadata": {},
     "output_type": "execute_result"
    }
   ],
   "source": [
    "# Original co-occurrence matrix vector\n",
    "PPMI[voc_dict[\"dogs\"]]"
   ]
  },
  {
   "cell_type": "markdown",
   "id": "66947f8a",
   "metadata": {},
   "source": [
    "Questions:\n",
    "\n",
    "**What happened to the elements of this vector that had a smoothed count of 1 in the smoothed count matrix? What happened to the elements of this vector that had the same value (not 1) in the smoothed count matrix?**\n",
    "\n",
    "**Does it seem like PPMI reweighting did the right thing with regard to the representation of each context word c in the word vector for “dogs”? Why?**\n",
    "\n",
    "\n",
    "These have been transformed to 0. The PPMI calculation seems to consider these co-occurrences as non-statistically significant about the relationship between \"dogs\" and these particular context words. If we look at these words we see they are 'dogs', 'men', and 'women'. We can see that these words don't co-occur with 'dogs' in our dataset.\n",
    "\n",
    "\n",
    "For the co-occuring words with larger values, it seems the PPMI transformation has down-weighted these values but kept them positive based on how informative the pairs are. So while these words do co-occur with \"dogs\", their co-occurrence is not as uniquely informative as it might be for rarer word pairs so the word 'bite' we see shows the most information and then 'like' and then 'feed'.\n",
    "\n",
    "The PPMI transformation of the word vector for \"dogs\" seems to have highlighted more meaningful and significant relationships while filtering out less informative ones. This makes the vectors more useful for tasks like semantic analysi since they better represent the word associations rather than just raw co-occurrence counts."
   ]
  },
  {
   "cell_type": "markdown",
   "id": "7226453f",
   "metadata": {},
   "source": [
    "## Now that we have the semantic model, let's use it to do some semantic analysis\n",
    "\n",
    "Compute the Euclidean (not cosine\n",
    "as was done in Lecture 22) distance between the following pairs (you\n",
    "can use the command scipy.linalg.norm to compute the length-\n",
    "/norm of a vector):\n",
    "\n",
    "    – “women” and “men” (human noun vs. human noun)\n",
    "    – “women” and “dogs” (human noun vs. animal noun)\n",
    "    – “men” and “dogs” (human noun vs. animal noun)\n",
    "    – “feed” and “like” (human verb vs. human verb)\n",
    "    – “feed” and “bite” (human verb vs. animal verb)\n",
    "    – “like” and “bite” (human verb vs. animal verb)\n",
    "\n",
    "Do the distances you compute above confirm our intuition from distributional semantics (i.e., similar words appear in similar contexts)?"
   ]
  },
  {
   "cell_type": "code",
   "execution_count": 320,
   "id": "1ca49927",
   "metadata": {},
   "outputs": [],
   "source": [
    "def euclidean_dist(x,y):\n",
    "    return np.sqrt(np.sum((x-y)**2))\n",
    "\n",
    "# or \n",
    "\n",
    "from scipy.linalg import norm\n",
    "\n",
    "def euclidean_dist_using_norm(x, y):\n",
    "    return norm(x - y)\n"
   ]
  },
  {
   "cell_type": "markdown",
   "id": "f33b8b02",
   "metadata": {},
   "source": [
    "## Trying the distances with the original co-occurrence matrix"
   ]
  },
  {
   "cell_type": "code",
   "execution_count": 321,
   "id": "8e418a27",
   "metadata": {},
   "outputs": [
    {
     "name": "stdout",
     "output_type": "stream",
     "text": [
      "cm: \"women\" and \"men\" =  14.142135623730951\n",
      "cm: \"women\" and \"dogs\" =  37.41657386773941\n",
      "cm: \"men\" and \"dogs\" =  37.41657386773941\n",
      "cm: \"feed\" and \"like\" =  14.142135623730951\n",
      "cm: \"feed\" and \"bite\" =  41.23105625617661\n",
      "cm: \"like\" and \"bite\" =  30.0\n"
     ]
    }
   ],
   "source": [
    "print('cm: \"women\" and \"men\" = ', euclidean_dist_using_norm(cm[voc_dict[\"women\"]],cm[voc_dict[\"men\"]]))\n",
    "print('cm: \"women\" and \"dogs\" = ', euclidean_dist_using_norm(cm[voc_dict[\"women\"]],cm[voc_dict[\"dogs\"]]))\n",
    "print('cm: \"men\" and \"dogs\" = ', euclidean_dist_using_norm(cm[voc_dict[\"men\"]],cm[voc_dict[\"dogs\"]]))\n",
    "print('cm: \"feed\" and \"like\" = ', euclidean_dist_using_norm(cm[voc_dict[\"feed\"]],cm[voc_dict[\"like\"]]))\n",
    "print('cm: \"feed\" and \"bite\" = ', euclidean_dist_using_norm(cm[voc_dict[\"feed\"]],cm[voc_dict[\"bite\"]]))\n",
    "print('cm: \"like\" and \"bite\" = ', euclidean_dist_using_norm(cm[voc_dict[\"like\"]],cm[voc_dict[\"bite\"]]))"
   ]
  },
  {
   "cell_type": "markdown",
   "id": "154e04aa",
   "metadata": {},
   "source": [
    "# Distances with the PPMI matrix"
   ]
  },
  {
   "cell_type": "code",
   "execution_count": 322,
   "id": "63560560",
   "metadata": {},
   "outputs": [
    {
     "name": "stdout",
     "output_type": "stream",
     "text": [
      "PPMI: \"women\" and \"men\" =  1.0163521730371832\n",
      "PPMI: \"women\" and \"dogs\" =  4.136527116950844\n",
      "PPMI: \"men\" and \"dogs\" =  4.221189014575109\n",
      "PPMI: \"feed\" and \"like\" =  0.9328858041414629\n",
      "PPMI: \"feed\" and \"bite\" =  1.6195492775916638\n",
      "PPMI: \"like\" and \"bite\" =  1.1250787673194556\n"
     ]
    }
   ],
   "source": [
    "print('PPMI: \"women\" and \"men\" = ', euclidean_dist_using_norm(PPMI[voc_dict[\"women\"]],PPMI[voc_dict[\"men\"]]))\n",
    "print('PPMI: \"women\" and \"dogs\" = ', euclidean_dist_using_norm(PPMI[voc_dict[\"women\"]],PPMI[voc_dict[\"dogs\"]]))\n",
    "print('PPMI: \"men\" and \"dogs\" = ', euclidean_dist_using_norm(PPMI[voc_dict[\"men\"]],PPMI[voc_dict[\"dogs\"]]))\n",
    "print('PPMI: \"feed\" and \"like\" = ', euclidean_dist_using_norm(PPMI[voc_dict[\"feed\"]],PPMI[voc_dict[\"like\"]]))\n",
    "print('PPMI: \"feed\" and \"bite\" = ', euclidean_dist_using_norm(PPMI[voc_dict[\"feed\"]],PPMI[voc_dict[\"bite\"]]))\n",
    "print('PPMI: \"like\" and \"bite\" = ', euclidean_dist_using_norm(PPMI[voc_dict[\"like\"]],PPMI[voc_dict[\"bite\"]]))"
   ]
  },
  {
   "cell_type": "markdown",
   "id": "4ca8557d",
   "metadata": {},
   "source": [
    "**Do the distances you compute above confirm our intuition from distributional semantics (i.e., similar words appear in similar contexts)?**\n",
    "\n",
    "Yes, the words that have a smaller euclidean distance seem to be similar in how they are used. So \"women\" and \"men\" are very similar in the vector space whereas \"feed\" and \"bite\" are quite far. If the corpus was much larger, we could expect this technique to help us understand how words in a language are used in context."
   ]
  },
  {
   "cell_type": "markdown",
   "id": "9fcd44bf",
   "metadata": {},
   "source": [
    "## Decompose the matrix using SVD \n",
    "\n",
    " Decompose the matrix using singular-value decomposition (SVD) by using the command scipy.linalg.svd, using the commands given below. "
   ]
  },
  {
   "cell_type": "code",
   "execution_count": 323,
   "id": "7f5e2601",
   "metadata": {},
   "outputs": [],
   "source": [
    "import scipy\n",
    "\n",
    "U, E, Vt = scipy.linalg.svd(PPMI, full_matrices=False)\n",
    "U = np.matrix(U) # compute U\n",
    "# print('U:\\n ', U)\n",
    "E = np.matrix(np.diag(E)) # compute E\n",
    "# print('E:\\n ', E)\n",
    "Vt = np.matrix(Vt) # compute Vt = conjugate transpose of V\n",
    "# print('Vt:\\n ', Vt)\n",
    "V = Vt.T # compute V = conjugate transpose of Vt\n",
    "# print('V:\\n ', V)"
   ]
  },
  {
   "cell_type": "markdown",
   "id": "4d80af16",
   "metadata": {},
   "source": [
    "Verify I can recover the original matrix by multiplying U, E, and Vt together."
   ]
  },
  {
   "cell_type": "code",
   "execution_count": 324,
   "id": "7823fc1e",
   "metadata": {},
   "outputs": [
    {
     "name": "stdout",
     "output_type": "stream",
     "text": [
      "[[-1.86715738e-16  1.32281014e-16 -5.81541264e-16 -5.89805982e-16\n",
      "   4.40121086e-01  1.19382970e+00 -1.95726656e-16]\n",
      " [-1.02606637e-16  1.16903428e-15 -4.27172636e-18  1.00199997e+00\n",
      "  -3.88578059e-16 -5.13478149e-16 -1.18392674e-16]\n",
      " [ 3.93793843e-17 -1.63877166e-17 -1.93432866e-18  7.63278329e-17\n",
      "   4.40121086e-01  2.60943893e-01 -2.63375163e-17]\n",
      " [ 2.77555756e-17  3.46898023e+00  1.28394457e+00  8.72956621e-17\n",
      "  -6.92950522e-17 -1.86102190e-17  5.50513220e-01]\n",
      " [ 2.21683037e+00  6.93889390e-16  2.21683037e+00  1.46545105e-16\n",
      "   2.91837681e-17 -1.36391036e-16  5.50513220e-01]\n",
      " [ 2.21683037e+00 -8.32667268e-17  1.28394457e+00  2.22611283e-17\n",
      "  -4.80729162e-18 -8.77832259e-17  1.47157526e-01]\n",
      " [ 1.09392935e-19  1.62966363e-17  3.03673889e-17  1.40535567e+00\n",
      "   1.40535567e+00  1.75570858e+00 -1.51792150e-16]]\n",
      "[[0.         0.         0.         0.         0.44012109 1.1938297\n",
      "  0.        ]\n",
      " [0.         0.         0.         1.00199997 0.         0.\n",
      "  0.        ]\n",
      " [0.         0.         0.         0.         0.44012109 0.26094389\n",
      "  0.        ]\n",
      " [0.         3.46898023 1.28394457 0.         0.         0.\n",
      "  0.55051322]\n",
      " [2.21683037 0.         2.21683037 0.         0.         0.\n",
      "  0.55051322]\n",
      " [2.21683037 0.         1.28394457 0.         0.         0.\n",
      "  0.14715753]\n",
      " [0.         0.         0.         1.40535567 1.40535567 1.75570858\n",
      "  0.        ]]\n"
     ]
    }
   ],
   "source": [
    "reconstructed_PPMI = U @ E @ Vt\n",
    "print(reconstructed_PPMI)\n",
    "print(PPMI)"
   ]
  },
  {
   "cell_type": "markdown",
   "id": "fd88ea69",
   "metadata": {},
   "source": [
    "### Are these values close enough to the original matrix?\n",
    "\n",
    "Yes. Using the allclose method which I found, we can see that the values are close enough to the original matrix."
   ]
  },
  {
   "cell_type": "code",
   "execution_count": 325,
   "id": "b4e404d4",
   "metadata": {},
   "outputs": [
    {
     "data": {
      "text/plain": [
       "True"
      ]
     },
     "execution_count": 325,
     "metadata": {},
     "output_type": "execute_result"
    }
   ],
   "source": [
    "# Check if the reconstructed matrix is close to the original\n",
    "np.allclose(PPMI, reconstructed_PPMI)"
   ]
  },
  {
   "cell_type": "markdown",
   "id": "fadc3824",
   "metadata": {},
   "source": [
    "## Reduce dimensions to 3 to get word vectors\n",
    "\n",
    "This way our word vectors will be in the abstract semantic space."
   ]
  },
  {
   "cell_type": "code",
   "execution_count": 326,
   "id": "18b3926f",
   "metadata": {},
   "outputs": [
    {
     "data": {
      "text/plain": [
       "matrix([[ 2.63793974e-17, -1.02637475e-16, -1.06587727e+00],\n",
       "        [-2.25965074e-17, -1.07767958e-16, -4.93706024e-01],\n",
       "        [ 9.36421911e-18, -3.60166678e-17, -4.08635515e-01],\n",
       "        [-2.53688176e+00, -2.74754068e+00,  3.15697960e-16],\n",
       "        [-2.81383477e+00,  1.44868864e+00, -1.66688944e-16],\n",
       "        [-2.14124648e+00,  1.35146299e+00, -2.19180497e-16],\n",
       "        [ 1.50337369e-17, -3.32033343e-16, -2.64718100e+00]])"
      ]
     },
     "execution_count": 326,
     "metadata": {},
     "output_type": "execute_result"
    }
   ],
   "source": [
    "reduced_PPMI = PPMI @ Vt.T[:, 0:3]\n",
    "reduced_PPMI"
   ]
  },
  {
   "cell_type": "markdown",
   "id": "b26dc7c9",
   "metadata": {},
   "source": [
    "### Visualize the word vectors now that they are in 3D space\n",
    "\n",
    "Out of curiosity I wanted to see what this reduced dimensionality matrix space looks like.\n",
    "\n",
    "This is awesome because it shows the words that live in simiilar vector spaces like 'man' and 'woman' live near each other, whereas 'dog' and 'the' are off on their own and the verbs are in their own little space. \n",
    "\n",
    "This is a great way to visualize the semantic space of the words in our teeny tiny corpus!"
   ]
  },
  {
   "cell_type": "code",
   "execution_count": 327,
   "id": "eb69878e",
   "metadata": {},
   "outputs": [
    {
     "data": {
      "image/png": "[encoded data removed]",
      "text/plain": [
       "<Figure size 864x720 with 1 Axes>"
      ]
     },
     "metadata": {
      "needs_background": "light"
     },
     "output_type": "display_data"
    }
   ],
   "source": [
    "import matplotlib.pyplot as plt\n",
    "from mpl_toolkits.mplot3d import Axes3D\n",
    "\n",
    "\n",
    "# Extract the coords of each word vector\n",
    "x_coords = reduced_PPMI[:, 0].flat  # we use .flat to get a 1D iterator instead of a 2D array\n",
    "y_coords = reduced_PPMI[:, 1].flat\n",
    "z_coords = reduced_PPMI[:, 2].flat\n",
    "\n",
    "# Create a 3D scatter plot\n",
    "fig = plt.figure(figsize=(12, 10))\n",
    "ax = fig.add_subplot(111, projection='3d')\n",
    "\n",
    "# Make it pretty\n",
    "colors = plt.cm.rainbow(np.linspace(0, 1, len(voc)))\n",
    "\n",
    "# Make it legible\n",
    "point_size = 50  # You can adjust this value as needed\n",
    "\n",
    "# Scatter plot\n",
    "for word, x, y, z, color in zip(voc, x_coords, y_coords, z_coords, colors):\n",
    "    ax.scatter(x, y, z, color=color, label=word, s=point_size)\n",
    "\n",
    "# Set labels\n",
    "ax.set_xlabel('Dimension 1')\n",
    "ax.set_ylabel('Dimension 2')\n",
    "ax.set_zlabel('Dimension 3')\n",
    "\n",
    "# Title\n",
    "ax.set_title('3D Visualization of Word Vectors in Reduced Semantic Space')\n",
    "\n",
    "# legend\n",
    "plt.legend(loc='upper left', bbox_to_anchor=(1.05, 1), borderaxespad=0.)\n",
    "\n",
    "# Make it prettieer\n",
    "plt.tight_layout()\n",
    "\n",
    "plt.show()\n"
   ]
  },
  {
   "cell_type": "markdown",
   "id": "05532556",
   "metadata": {},
   "source": [
    "### Compute the Euclidean distances of the human/animal nouns/verbs again but on the reduced PPMI-weighted count matrix. \n",
    "\n",
    "**Does the compact/reduced matrix still keep the information we need for each word vector?**\n"
   ]
  },
  {
   "cell_type": "code",
   "execution_count": 328,
   "id": "65d7fed7",
   "metadata": {},
   "outputs": [
    {
     "name": "stdout",
     "output_type": "stream",
     "text": [
      "reduced_PPMI: \"women\" and \"men\" =  0.6795791580454789\n",
      "reduced_PPMI: \"women\" and \"dogs\" =  4.118052733886603\n",
      "reduced_PPMI: \"men\" and \"dogs\" =  4.2053588998359785\n",
      "reduced_PPMI: \"feed\" and \"like\" =  0.6572417541271415\n",
      "reduced_PPMI: \"feed\" and \"bite\" =  0.5721712457392658\n",
      "reduced_PPMI: \"like\" and \"bite\" =  0.08507050838787567\n"
     ]
    }
   ],
   "source": [
    "print('reduced_PPMI: \"women\" and \"men\" = ', euclidean_dist_using_norm(reduced_PPMI[voc_dict[\"women\"]],reduced_PPMI[voc_dict[\"men\"]]))\n",
    "print('reduced_PPMI: \"women\" and \"dogs\" = ', euclidean_dist_using_norm(reduced_PPMI[voc_dict[\"women\"]],reduced_PPMI[voc_dict[\"dogs\"]]))\n",
    "print('reduced_PPMI: \"men\" and \"dogs\" = ', euclidean_dist_using_norm(reduced_PPMI[voc_dict[\"men\"]],reduced_PPMI[voc_dict[\"dogs\"]]))\n",
    "print('reduced_PPMI: \"feed\" and \"like\" = ', euclidean_dist_using_norm(reduced_PPMI[voc_dict[\"feed\"]],reduced_PPMI[voc_dict[\"like\"]]))\n",
    "print('reduced_PPMI: \"feed\" and \"bite\" = ', euclidean_dist_using_norm(reduced_PPMI[voc_dict[\"feed\"]],reduced_PPMI[voc_dict[\"bite\"]]))\n",
    "print('reduced_PPMI: \"like\" and \"bite\" = ', euclidean_dist_using_norm(reduced_PPMI[voc_dict[\"like\"]],reduced_PPMI[voc_dict[\"bite\"]]))"
   ]
  },
  {
   "cell_type": "markdown",
   "id": "46a6217a",
   "metadata": {},
   "source": [
    "Based on the results and the visualization, it seems like the reduced matrix still keeps the information we need for each word vector. The distances between the words are still similar to the original matrix. The visualization also shows that the words are still clustered in a similar way to the original matrix."
   ]
  },
  {
   "cell_type": "markdown",
   "id": "f9add0fb",
   "metadata": {},
   "source": [
    "## 2) Computing with distributional semantic word vectors"
   ]
  },
  {
   "cell_type": "markdown",
   "id": "8376b3f1",
   "metadata": {},
   "source": [
    "We are given two types of word vectors:\n",
    "\n",
    "1) Classical distributional semantic matrix. The matrix is trained using a 2-word context window, PPMI weighting, and SVD reduction to 500 dimensions. The co-occurrence statistics are computed from the British National Corpus and the Web-As-Corpus. It is trained by the COMPOSES toolkit. You could in fact make your own using the pipeline from Section 1, but SVD takes hours in a realistic setting—cubic time (O(n^3)) in the number of dimensions.\n",
    "\n",
    "2) Google’s 300-dimensional word vectors trained by deep learning. The version we provide is trained on the Google News corpus and taken from the word2vec toolkit. We will see how their word vectors fare against the more classical method.\n"
   ]
  },
  {
   "cell_type": "markdown",
   "id": "396b9e00",
   "metadata": {},
   "source": [
    "### Read in the word vectors"
   ]
  },
  {
   "cell_type": "code",
   "execution_count": 329,
   "id": "a6454e28",
   "metadata": {},
   "outputs": [],
   "source": [
    "def load_word_vectors(file_path):\n",
    "    word_vectors = {}\n",
    "    with open(file_path, 'r', encoding='utf-8') as file:\n",
    "        for line in file:\n",
    "            values = line.split()\n",
    "            word = values[0]\n",
    "            vector = np.asarray(values[1:], dtype='float32')\n",
    "            word_vectors[word] = vector\n",
    "    return word_vectors\n",
    "\n",
    "google_word_vectors = load_word_vectors('./GoogleNews-vectors-rcv_vocab.txt')\n",
    "COMPOSE_vectors = load_word_vectors('./EN-wform.w.2.ppmi.svd.500.rcv_vocab.txt')\n"
   ]
  },
  {
   "cell_type": "markdown",
   "id": "130a8ff2",
   "metadata": {},
   "source": [
    "### Read and parse the SAT analogy questions\n",
    "\n",
    "I included the PoS tags thinkinng I may use them for handling unknown tokens, but I didn't end up using them. I left them in the code in case I want to use them later."
   ]
  },
  {
   "cell_type": "code",
   "execution_count": 330,
   "id": "c22c3e2b",
   "metadata": {},
   "outputs": [],
   "source": [
    "def parse_sat_questions(file_path):\n",
    "    with open(file_path, 'r', encoding='utf-8') as file:\n",
    "        lines = file.readlines()\n",
    "\n",
    "    questions = []\n",
    "    i = 0\n",
    "    while i < len(lines):\n",
    "        line = lines[i].strip()\n",
    "\n",
    "        # Skip blank lines and commented lines\n",
    "        if not line or line.startswith(\"#\"):\n",
    "            i += 1\n",
    "            continue\n",
    "\n",
    "        # Skip the header line of each question block\n",
    "        i += 1\n",
    "\n",
    "        # Read the question line (second line of the block)\n",
    "        prompt_line = lines[i].strip().split()\n",
    "        prompt_pair = tuple(prompt_line[:2])\n",
    "        prompt_pos = tuple(prompt_line[2:])\n",
    "        i += 1\n",
    "\n",
    "        # Read the choices (next 5 lines)\n",
    "        choices = []\n",
    "        pos_pairs = []\n",
    "        for j in range(5):\n",
    "            choice_line = lines[i].strip().split()\n",
    "            choice_pair = tuple(choice_line[:2])\n",
    "            pos_pair = tuple(choice_line[2:])\n",
    "            choices.append(choice_pair)\n",
    "            pos_pairs.append(pos_pair)\n",
    "            i += 1\n",
    "\n",
    "        # Read the correct answer (8th line of the block)\n",
    "        answer = lines[i].strip().lower()\n",
    "        answer_index = ord(answer) - ord('a')  # convert it to a num\n",
    "        i += 1\n",
    "\n",
    "        questions.append({\n",
    "            'prompt': prompt_pair,\n",
    "            'choices': choices,\n",
    "            'answer': answer_index,\n",
    "            'part_of_speech': (prompt_pos, pos_pairs)\n",
    "        })\n",
    "\n",
    "        # Skip the blank line after each block\n",
    "        i += 1\n",
    "\n",
    "    return questions\n",
    "\n",
    "\n",
    "sat_questions = parse_sat_questions('SAT-package-V3.txt')\n",
    "\n"
   ]
  },
  {
   "cell_type": "markdown",
   "id": "296f2358",
   "metadata": {},
   "source": [
    "### Example output of a parsed SAT question"
   ]
  },
  {
   "cell_type": "code",
   "execution_count": 331,
   "id": "85c44bb4",
   "metadata": {},
   "outputs": [
    {
     "data": {
      "text/plain": [
       "{'prompt': ('lull', 'trust'),\n",
       " 'choices': [('balk', 'fortitude'),\n",
       "  ('betray', 'loyalty'),\n",
       "  ('cajole', 'compliance'),\n",
       "  ('hinder', 'destination'),\n",
       "  ('soothe', 'passion')],\n",
       " 'answer': 2,\n",
       " 'part_of_speech': (('v:n',),\n",
       "  [('v:n',), ('v:n',), ('v:n',), ('v:n',), ('v:n',)])}"
      ]
     },
     "execution_count": 331,
     "metadata": {},
     "output_type": "execute_result"
    }
   ],
   "source": [
    "sat_questions[0]\n",
    "\n",
    "# Ok, it looks good."
   ]
  },
  {
   "cell_type": "markdown",
   "id": "7ac46e2b",
   "metadata": {},
   "source": [
    "## Handling unknown words using SAT question average vectors\n",
    "\n",
    "If we encounter an unknown word, add all the vectors in the SAT question in the corresponding position (ie. if an unknown word is the left of the two choices, as in 'lull' in (('lull', 'trust')) take all the left words) that are known, and then divide by the total to get an average vector. Then use that average vector for the <unk> word.\n",
    "\n",
    "This approach hopefully ensures that for each SAT question, unknown word are handled by using the average vector of the known words in the same position (left or right) within that specific question. This method may help provide a contextually relevant way to handle unknown words, tailored to the semantic content of each individual SAT question. \n",
    "\n",
    "This is opposed to just taking the part of speech tag and using the global vector average for that specific PoS tag.\n",
    "\n",
    "And I boy oh boy was this a pain to do due to the left and right words and all that.\n"
   ]
  },
  {
   "cell_type": "code",
   "execution_count": 332,
   "id": "c0846be4",
   "metadata": {},
   "outputs": [],
   "source": [
    "def calculate_average_vectors_for_each_question(sat_questions, word_vectors):\n",
    "    question_averages = []\n",
    "    total_unknown_words = 0  # Initialize a counter for unknown words\n",
    "\n",
    "    for question in sat_questions:\n",
    "        # shape of first vector in the dictionary\n",
    "        vector_shape = next(iter(word_vectors.values()))\n",
    "\n",
    "        # set sum_left and sum_right as zero vectors of the same shape as the word vectors\n",
    "        sum_left = np.zeros_like(vector_shape)\n",
    "        sum_right = np.zeros_like(vector_shape)\n",
    "\n",
    "        count_left, count_right = 0, 0\n",
    "        unknown_words = 0  # Counter for unknown words in the current question\n",
    "\n",
    "        # here we iterate over the prompt and the choices and calculate the sum of the vectors\n",
    "        for pair in [question['prompt']] + question['choices']:\n",
    "            left_word, right_word = pair\n",
    "\n",
    "            if left_word in word_vectors:\n",
    "                sum_left += word_vectors[left_word]\n",
    "                count_left += 1\n",
    "            else:\n",
    "                unknown_words += 1\n",
    "\n",
    "            if right_word in word_vectors:\n",
    "                sum_right += word_vectors[right_word]\n",
    "                count_right += 1\n",
    "            else:\n",
    "                unknown_words += 1\n",
    "\n",
    "        # Calculate the average vector for the left and right words in the question\n",
    "        # If there are known left position words (count_left > 0), use average vector\n",
    "        # else use a zero vector \n",
    "        avg_left = sum_left / count_left if count_left > 0 else np.zeros_like(sum_left)\n",
    "        avg_right = sum_right / count_right if count_right > 0 else np.zeros_like(sum_right)\n",
    "        question_averages.append((avg_left, avg_right))\n",
    "\n",
    "        total_unknown_words += unknown_words\n",
    "\n",
    "    print(f\"Total number of unknown words encountered: {total_unknown_words}\")\n",
    "    return question_averages\n",
    "\n",
    "\n",
    "# handles unknowns with my methodology\n",
    "def get_vector(word_vectors, word, position, question_average_vectors):\n",
    "    if word in word_vectors:\n",
    "        return word_vectors[word]\n",
    "    else:\n",
    "        if position == 'left':\n",
    "            return question_average_vectors[0]\n",
    "        else:\n",
    "            return question_average_vectors[1]\n",
    "\n"
   ]
  },
  {
   "cell_type": "markdown",
   "id": "21753309",
   "metadata": {},
   "source": [
    "## Let's try using cosine similarity to find the most similar word to the analogy\n",
    "\n",
    "I used this in a Spotify recommendation project so I want to give it a shot here.\n",
    "\n",
    "I tried just using cosine similarity and it was not achieving the results I was hoping for. I was obtaining the following accuracies:\n",
    "\n",
    "    Accuracy of Google vector set: 0.22192513368983957\n",
    "    Accuracy of COMPOSE vector set: 0.24866310160427807\n",
    "\n",
    "So I needed to implement something else to help improve the accuracy. I attempted normalizing the data but that had no effect. \n",
    "\n",
    "Cosine similarity will help identify if the word vectors are similar to each other. If the vectors are similar, then the words are similar (or at least used in similar contexts). The issue with this could be that antonyms may be very similar in the vector space. So we may need to use an additional methods to help better handle this situation.\n"
   ]
  },
  {
   "cell_type": "code",
   "execution_count": 333,
   "id": "38174ef3",
   "metadata": {},
   "outputs": [],
   "source": [
    "import numpy as np\n",
    "from scipy.spatial.distance import cosine\n",
    "\n",
    "# handles the unknowns with my methodology\n",
    "def cosine_similarity_between_words(word_vectors, word1, word2, position1, position2, average_vectors):\n",
    "    vector1 = get_vector(word_vectors, word1, position1, average_vectors)\n",
    "    vector2 = get_vector(word_vectors, word2, position2, average_vectors)\n",
    "    \n",
    "    similarity = 1 - cosine(vector1, vector2)\n",
    "    \n",
    "    return similarity\n"
   ]
  },
  {
   "cell_type": "markdown",
   "id": "de8d3dee",
   "metadata": {},
   "source": [
    "## Try implementing the vector difference to improve accuracy\n",
    "\n",
    "In order to improve upon the cosine similarity, I implemented the vector difference method. \n",
    "\n",
    "Word vector spaces can have consistent patterns for similar word relationships. So taking the vector difference can reveal some relationships that are not identified from cosine similarity alone.\n",
    "\n",
    "Example: Countries and thier languages (like \"French\" to \"France\", \"ITalian\" to \"Italy\") will have differences that reflect a language-to-country relationship. These differences are often similar across different language-country pairs, indicating a consistent semantic shift in the vector space.\n",
    "\n",
    "Sooo, with the analogy problem we can hope that \"A is to B as C is to D\" implies a shift from A to B is semantically similar to the shift from C to D.\n",
    "\n",
    "Annnnd, after implementing this addition, the accuracy improved by a ton! It practically doubled!\n",
    "\n",
    "    Accuracy of Google vector set: 0.42780748663101603\n",
    "    Accuracy of COMPOSE vector set: 0.41711229946524064\n"
   ]
  },
  {
   "cell_type": "code",
   "execution_count": 334,
   "id": "59ba869c",
   "metadata": {},
   "outputs": [],
   "source": [
    "\n",
    "def vector_difference(word_vectors, word1, word2, position1, position2, average_vectors):\n",
    "\n",
    "    vector1 = get_vector(word_vectors, word1, position1, average_vectors)\n",
    "    vector2 = get_vector(word_vectors, word2, position2, average_vectors)\n",
    "    return vector2 - vector1"
   ]
  },
  {
   "cell_type": "markdown",
   "id": "44d224e1",
   "metadata": {},
   "source": [
    "## Prediction time\n",
    "\n",
    "Here I attempt to predict the correct answers to the SAT questions using the Google and COMPOSE vector sets.\n",
    "\n",
    "Using the cosine similarity with the average value unknown word handling provided lack-luster results, seen below:\n",
    "\n",
    "    Accuracy of Google vector set: 0.22192513368983957\n",
    "    Accuracy of COMPOSE vector set: 0.24866310160427807\n",
    "\n",
    "When I handled the unknown words by just using a zero vector the accuracy was even lower at around 0.20 and 0.21\n",
    "\n",
    "After I implemented the vector difference method, the accuracy significantly improved:\n",
    "\n",
    "    Accuracy of Google vector set: 0.42780748663101603\n",
    "    Accuracy of COMPOSE vector set: 0.41711229946524064\n",
    "\n",
    "The google word vector set outperformed the Compose word vector set by about 1.0% in accuracy. This is not a huge difference but it is impressive since not only did it have a smaller dimensionality (300 vs 500) but it was also trained on a smaller corpus (Google News vs British National Corpus and Web-As-Corpus). It also had more unknown words to handle since it was trained on a smaller corpus but still outperformed the Compose corpus.\n",
    "\n",
    "It shows that deep learning shows promise to create smaller and more efficient word vector sets that can be used for semantic analysis as opposed to the more traditional SVD method."
   ]
  },
  {
   "cell_type": "code",
   "execution_count": 335,
   "id": "99e9c4ff",
   "metadata": {},
   "outputs": [],
   "source": [
    "\n",
    "def predict_answer(question, word_vectors, question_average_vectors):\n",
    "    question_vector = vector_difference(\n",
    "        word_vectors, question['prompt'][0], question['prompt'][1], \n",
    "        'left', 'right', question_average_vectors)\n",
    "\n",
    "    best_choice = None\n",
    "    best_similarity = -1\n",
    "\n",
    "    for i, choice in enumerate(question['choices']):\n",
    "        choice_vector = vector_difference(\n",
    "            word_vectors, choice[0], choice[1], \n",
    "            'left', 'right', question_average_vectors)\n",
    "\n",
    "        # Cosine similarity between stem_vector and choice_vector\n",
    "        similarity = 1 - cosine(question_vector, choice_vector)\n",
    "\n",
    "        if similarity > best_similarity:\n",
    "            best_similarity = similarity\n",
    "            best_choice = i\n",
    "\n",
    "    return best_choice"
   ]
  },
  {
   "cell_type": "code",
   "execution_count": 336,
   "id": "6b88cd96",
   "metadata": {},
   "outputs": [],
   "source": [
    "def evaluate_accuracy(sat_questions, word_vectors):\n",
    "    correct_answers = 0\n",
    "    question_averages = calculate_average_vectors_for_each_question(sat_questions, word_vectors)\n",
    "\n",
    "    for question, averages in zip(sat_questions, question_averages):\n",
    "        predicted = predict_answer(question, word_vectors, averages)\n",
    "        if predicted == question['answer']:\n",
    "            correct_answers += 1\n",
    "\n",
    "    return correct_answers / len(sat_questions)"
   ]
  },
  {
   "cell_type": "code",
   "execution_count": 337,
   "id": "9b55a2a3",
   "metadata": {},
   "outputs": [
    {
     "name": "stdout",
     "output_type": "stream",
     "text": [
      "Total number of unknown words encountered: 174\n",
      "Total number of unknown words encountered: 172\n",
      "Accuracy of Google vector set: 0.42780748663101603\n",
      "Accuracy of COMPOSE vector set: 0.41711229946524064\n"
     ]
    }
   ],
   "source": [
    "# Calculate accuracy\n",
    "accuracy_google = evaluate_accuracy(sat_questions, google_word_vectors)\n",
    "accuracy_compose = evaluate_accuracy(sat_questions, COMPOSE_vectors)\n",
    "print(f\"Accuracy of Google vector set: {accuracy_google}\")\n",
    "print(f\"Accuracy of COMPOSE vector set: {accuracy_compose}\")"
   ]
  }
 ],
 "metadata": {
  "kernelspec": {
   "display_name": "Python 3",
   "language": "python",
   "name": "python3"
  },
  "language_info": {
   "codemirror_mode": {
    "name": "ipython",
    "version": 3
   },
   "file_extension": ".py",
   "mimetype": "text/x-python",
   "name": "python",
   "nbconvert_exporter": "python",
   "pygments_lexer": "ipython3",
   "version": "3.7.13"
  }
 },
 "nbformat": 4,
 "nbformat_minor": 5
}
